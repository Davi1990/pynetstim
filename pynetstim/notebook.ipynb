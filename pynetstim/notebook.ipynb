{
 "cells": [
  {
   "cell_type": "markdown",
   "metadata": {},
   "source": [
    "# developing and testing pynetstim"
   ]
  },
  {
   "cell_type": "code",
   "execution_count": null,
   "metadata": {},
   "outputs": [],
   "source": [
    "from brainsight import BrainsightSessionFile\n",
    "import nibabel as nib\n",
    "import numpy as np\n",
    "from utils import Coords\n",
    "from surfer import Brain\n",
    "from mayavi import mlab\n",
    "import matplotlib.pyplot as plt"
   ]
  },
  {
   "cell_type": "markdown",
   "metadata": {},
   "source": [
    "## Testing BrainsightSessionFile and rapid visualization of stimulations on brain\n",
    "Date: 2018-09-21 12:10:16 "
   ]
  },
  {
   "cell_type": "code",
   "execution_count": 5,
   "metadata": {},
   "outputs": [],
   "source": [
    "subject = 'Broad_69_LD'\n",
    "subjects_dir = '/Users/stadayon/Dropbox/projects/broad/data/freesurfer/subjects'\n",
    "\n",
    "lh_cortex_vertices, lh_cortex_faces = nib.freesurfer.read_geometry('{subjects_dir}/{subject}/surf/lh.pial'.format(\n",
    "    subjects_dir=subjects_dir, subject=subject))\n",
    "\n",
    "rh_cortex_vertices, rh_cortex_faces = nib.freesurfer.read_geometry('{subjects_dir}/{subject}/surf/rh.pial'.format(\n",
    "    subjects_dir=subjects_dir, subject=subject))\n",
    "\n",
    "# generate skin surface using mri_watershed ( don't use -useSRAS as it takes a long time and I don't know why).\n",
    "# the generated skin is in RAS coordinate. We can use pynetstim Coords class to read the skin vertices and convert it\n",
    "# to tkr-ras_coords.\n",
    "skin_vertices, skin_faces = nib.freesurfer.read_geometry(\n",
    "    '/Users/stadayon/Dropbox/projects/broad/data/anat/Broad_69_LD/lh.brainsurf_outer_skin_surface')\n",
    "skin_vertices = Coords(skin_vertices, subject,\n",
    "                       subjects_dir, False).coords['tkr-ras_coords']\n",
    "\n",
    "# reading brainsight session file using pynetstim\n",
    "bs = BrainsightSessionFile('/Users/stadayon/Dropbox/projects/broad/data/sessions_data/69_LD Exported Brainsight Data.txt',\n",
    "                           './temp')\n",
    "df = bs.get_table('samples')\n",
    "df_sess1 = df[df.session_name == 'Session 1']\n",
    "\n",
    "# converting stimulation sites to surface coordinate using pynetstim Coords class.\n",
    "stim_coords = Coords(df[['loc_x', 'loc_y', 'loc_z']],\n",
    "                     subject, subjects_dir).coords['tkr-ras_coords']\n",
    "\n",
    "\n",
    "# set offset off otherwise, pysurfer tries to move the hemispheres so you can visualize the medial sid better\n",
    "brain = Brain(subject, subjects_dir=subjects_dir,\n",
    "              hemi='both', surf='pial', offset=False)\n",
    "\n",
    "# adding annotations\n",
    "brain.add_annotation('Yeo2011_7Networks_N1000', hemi='lh', borders=False)\n",
    "brain.add_annotation('Yeo2011_7Networks_N1000', hemi='rh',\n",
    "                     borders=False, remove_existing=False)\n",
    "\n",
    "# as we are  not trying to reinvent the wheel, It is better to stick to pysurfer for visualizaiton. However\n",
    "# this is a sanity check whether things works as we expect them to work.\n",
    "\n",
    "# mlab.triangular_mesh(lh_cortex_vertices[:,0],lh_cortex_vertices[:,1],lh_cortex_vertices[:,2],lh_cortex_faces,reset_zoom=False)\n",
    "# mlab.triangular_mesh(rh_cortex_vertices[:,0],rh_cortex_vertices[:,1],rh_cortex_vertices[:,2],rh_cortex_faces,reset_zoom=False)\n",
    "\n",
    "# visualization of stimulation sites using points3d\n",
    "mlab.triangular_mesh(skin_vertices[:, 0], skin_vertices[:, 1], skin_vertices[:, 2],\n",
    "                     skin_faces, opacity=.4, color=(1, 1, .4), reset_zoom=False)\n",
    "mlab.points3d(stim_coords[:, 0], stim_coords[:, 1],\n",
    "              stim_coords[:, 2], scale_factor=4, reset_zoom=False)\n",
    "mlab.show()"
   ]
  },
  {
   "cell_type": "code",
   "execution_count": null,
   "metadata": {},
   "outputs": [],
   "source": []
  }
 ],
 "metadata": {
  "hide_input": false,
  "kernelspec": {
   "display_name": "Python 2",
   "language": "python",
   "name": "python2"
  },
  "language_info": {
   "codemirror_mode": {
    "name": "ipython",
    "version": 2
   },
   "file_extension": ".py",
   "mimetype": "text/x-python",
   "name": "python",
   "nbconvert_exporter": "python",
   "pygments_lexer": "ipython2",
   "version": "2.7.15"
  },
  "latex_envs": {
   "LaTeX_envs_menu_present": true,
   "autoclose": false,
   "autocomplete": true,
   "bibliofile": "biblio.bib",
   "cite_by": "apalike",
   "current_citInitial": 1,
   "eqLabelWithNumbers": true,
   "eqNumInitial": 1,
   "hotkeys": {
    "equation": "Ctrl-E",
    "itemize": "Ctrl-I"
   },
   "labels_anchors": false,
   "latex_user_defs": false,
   "report_style_numbering": false,
   "user_envs_cfg": false
  },
  "toc": {
   "base_numbering": 1,
   "nav_menu": {},
   "number_sections": true,
   "sideBar": true,
   "skip_h1_title": false,
   "title_cell": "Table of Contents",
   "title_sidebar": "Contents",
   "toc_cell": false,
   "toc_position": {
    "height": "calc(100% - 180px)",
    "left": "10px",
    "top": "150px",
    "width": "327.797px"
   },
   "toc_section_display": true,
   "toc_window_display": true
  }
 },
 "nbformat": 4,
 "nbformat_minor": 2
}
