{
 "cells": [
  {
   "cell_type": "markdown",
   "metadata": {},
   "source": [
    "# developing and testing pynetstim"
   ]
  },
  {
   "cell_type": "code",
   "execution_count": 1,
   "metadata": {},
   "outputs": [
    {
     "name": "stderr",
     "output_type": "stream",
     "text": [
      "plotting.py:9: DeprecationWarning: Python2 support is deprecated and will be removed in a future release. Consider switching to Python3.\n",
      "  from nilearn.plotting import plot_anat\n"
     ]
    }
   ],
   "source": [
    "import nibabel as nib\n",
    "import numpy as np\n",
    "\n",
    "from surfer import Brain\n",
    "from mayavi import mlab\n",
    "%gui qt\n",
    "from coordinates import Coords,Surf, FreesurferSurf, FreesurferCoords\n",
    "from targets import Targets\n",
    "from project import StimProject\n",
    "import matplotlib.pyplot as plt\n",
    "%matplotlib inline\n",
    "#import seaborn as sns\n",
    "#sns.set_context('notebook')\n",
    "#sns.set_style('ticks')\n",
    "from pymisc.plotting import clean_plot\n",
    "from collections import defaultdict\n",
    "from plotting import plotting_points\n",
    "from tms_simulation import Simnibs"
   ]
  },
  {
   "cell_type": "markdown",
   "metadata": {},
   "source": [
    "## Visualization"
   ]
  },
  {
   "cell_type": "code",
   "execution_count": 2,
   "metadata": {
    "scrolled": true
   },
   "outputs": [
    {
     "name": "stdout",
     "output_type": "stream",
     "text": [
      "Target\n",
      "Sample\n",
      "Planned\n",
      "Session\n",
      "Session\n",
      "head model exists, if you want to recreate the head models, remove the directory:\n",
      "/Users/stadayon/Dropbox/projects/broad/data/freesurfer/subjects/Broad_60_AV/bem\n"
     ]
    }
   ],
   "source": [
    "subject = 'Broad_60_AV'\n",
    "freesurfer_dir = '/Users/stadayon/Dropbox/projects/broad/data/freesurfer/subjects'\n",
    "simnibs_dir = '/Users/stadayon/Dropbox/projects/broad/data/mri2mesh/{subject}'.format(subject=subject)\n",
    "simnibs_simulation_dir = '/Users/stadayon/Dropbox/projects/broad/data/simnibs_simulations/{subject}'.format(subject=subject)\n",
    "project_dir = '/Users/stadayon/Desktop/pynetstim_test/'\n",
    "brainsight_file = '/Users/stadayon/Dropbox/projects/broad/data/sessions_data_raw/{subject}_sessions_data.txt'.format(subject=subject)\n",
    "\n",
    "project = StimProject(subject,freesurfer_dir = freesurfer_dir,project_dir= project_dir,brainsight_file = brainsight_file, overwrite='all')\n",
    "project.summary(plot_pulses=False)"
   ]
  },
  {
   "cell_type": "code",
   "execution_count": 3,
   "metadata": {},
   "outputs": [],
   "source": [
    "targets = project.brainsight_targets\n",
    "samples = project.brainsight_samples"
   ]
  },
  {
   "cell_type": "code",
   "execution_count": 4,
   "metadata": {},
   "outputs": [
    {
     "name": "stderr",
     "output_type": "stream",
     "text": [
      "[ simnibs ]WARNING: /Users/stadayon/anaconda2/envs/pynetstim/lib/python2.7/site-packages/mayavi/tools/helper_functions.py:107: DeprecationWarning: use \"HasTraits.trait_get\" instead\n",
      "  traits = self.get(self.class_trait_names())\n",
      "\n"
     ]
    },
    {
     "data": {
      "text/plain": [
       "<plotting.plotting_points at 0x1067e5810>"
      ]
     },
     "execution_count": 4,
     "metadata": {},
     "output_type": "execute_result"
    }
   ],
   "source": [
    "plotting_points(targets,'both','pial','pial',show_roi=True,show_name=True,scale_factor=.5)"
   ]
  },
  {
   "cell_type": "code",
   "execution_count": 5,
   "metadata": {},
   "outputs": [
    {
     "name": "stdout",
     "output_type": "stream",
     "text": [
      "head model exists, if you want to recreate the head models, remove the directory:\n",
      "/Users/stadayon/Dropbox/projects/broad/data/mri2mesh/Broad_60_AV/fs_Broad_60_AV/bem\n"
     ]
    }
   ],
   "source": [
    "s = Simnibs(subject,simnibs_dir,simnibs_simulation_dir)"
   ]
  },
  {
   "cell_type": "code",
   "execution_count": 6,
   "metadata": {},
   "outputs": [
    {
     "data": {
      "text/plain": [
       "array(['R DLPFC', 'R OCCIPITAL', 'L DLPFC', 'L ANGGY', 'V1_BI_1',\n",
       "       'V1_mono_1', 'V1_mono_2', 'V1_mono_3', 'V2_BI_1', 'V2_BI_2',\n",
       "       'V2_MONO_1', 'DAN_Conf', 'DMN_Conf', 'DMN_Indiv', 'DAN_Indiv',\n",
       "       'V3_BI_1', 'V3_BI_2', 'V3_MONO_1', 'V3_MONO_2', 'V3_MONO_3',\n",
       "       'V4_BI_1', 'V4_MONO_1', 'V4_MONO_2', 'V4_MONO_3', 'V5_BI_1',\n",
       "       'V5_BI_2', 'V5_MONO_1', 'V5_MONO_2', 'V6_BI_1', 'V6_BI_2',\n",
       "       'V6_BI_3', 'V6_MONO_1', 'V6_MONO_2', 'V6_MONO_3'], dtype=object)"
      ]
     },
     "execution_count": 6,
     "metadata": {},
     "output_type": "execute_result"
    }
   ],
   "source": [
    "targets.name"
   ]
  },
  {
   "cell_type": "code",
   "execution_count": 7,
   "metadata": {},
   "outputs": [],
   "source": [
    "targets_inds = []\n",
    "targets_inds.append(np.where(targets.name=='DMN_Conf')[0][0])\n",
    "#targets_inds.append(np.where(targets.name=='LDLPFC')[0][0])"
   ]
  },
  {
   "cell_type": "code",
   "execution_count": 8,
   "metadata": {},
   "outputs": [],
   "source": [
    "targets = Targets(targets.coordinates['ras_coord'][targets_inds,:], subject, freesurfer_dir , direction=targets.direction[targets_inds,:],\n",
    "                  name =np.array(['DMN']))\n"
   ]
  },
  {
   "cell_type": "code",
   "execution_count": 9,
   "metadata": {},
   "outputs": [
    {
     "name": "stdout",
     "output_type": "stream",
     "text": [
      "190109-16:45:24,900 nipype.workflow INFO:\n",
      "\t Workflow T1_to_simnibs_registration settings: ['check', 'execution', 'logging', 'monitoring']\n",
      "190109-16:45:24,911 nipype.workflow INFO:\n",
      "\t Running serially.\n",
      "190109-16:45:24,915 nipype.workflow INFO:\n",
      "\t [Node] Setting-up \"T1_to_simnibs_registration.flirt\" in \"/Users/stadayon/Dropbox/projects/broad/data/simnibs_simulations/Broad_60_AV/T1_to_simnibs_registration/flirt\".\n",
      "190109-16:45:24,944 nipype.workflow INFO:\n",
      "\t [Node] Running \"flirt\" (\"nipype.interfaces.fsl.preprocess.FLIRT\"), a CommandLine Interface with command:\n",
      "flirt -in /Users/stadayon/Dropbox/projects/broad/data/mri2mesh/Broad_60_AV/m2m_Broad_60_AV/T1fs.nii.gz -ref /Users/stadayon/Dropbox/projects/broad/data/mri2mesh/Broad_60_AV/m2m_Broad_60_AV/T1fs_conform.nii.gz -out T1_in_Simnibs.nii.gz -omat T12Simnibs.mat -searchrx -180 180 -searchry -180 180 -searchrz -180 180\n",
      "190109-16:48:30,127 nipype.interface INFO:\n",
      "\t (4, 'Interrupted system call')\n"
     ]
    },
    {
     "name": "stderr",
     "output_type": "stream",
     "text": [
      "[ simnibs ]WARNING: /Users/stadayon/anaconda2/envs/pynetstim/lib/python2.7/site-packages/nipype/pipeline/engine/utils.py:307: DeprecationWarning: use \"HasTraits.trait_set\" instead\n",
      "  result.outputs.set(**modify_paths(tosave, relative=True, basedir=cwd))\n",
      "\n"
     ]
    },
    {
     "name": "stdout",
     "output_type": "stream",
     "text": [
      "190109-16:48:30,777 nipype.workflow INFO:\n",
      "\t [Node] Finished \"T1_to_simnibs_registration.flirt\".\n",
      "190109-16:48:31,470 nipype.interface INFO:\n",
      "\t stdout 2019-01-09T16:48:31.469037:Coordinates in Destination volume (in mm)\n",
      "190109-16:48:31,479 nipype.interface INFO:\n",
      "\t stdout 2019-01-09T16:48:31.479246:50.0223  -59.4653  11.5234\n",
      "190109-16:48:31,483 nipype.interface INFO:\n",
      "\t stdout 2019-01-09T16:48:31.479246:50.0223  -59.4653  11.5234\n"
     ]
    }
   ],
   "source": [
    "s.add_targets(targets,'targets_DMN.csv',t12simnibs=True,project2skin=True)"
   ]
  },
  {
   "cell_type": "code",
   "execution_count": 11,
   "metadata": {},
   "outputs": [],
   "source": [
    "#s.run_simnibs('targets_DMN',didt=120e6)"
   ]
  },
  {
   "cell_type": "code",
   "execution_count": 54,
   "metadata": {},
   "outputs": [],
   "source": [
    "t = 0\n",
    "brain = Brain(subject_id='fs_'+subject,subjects_dir=simnibs_dir,surf='pial',hemi='both',offset=False)\n",
    "sim_data = nib.freesurfer.read_morph_data('/Users/stadayon/Dropbox/projects/broad/data/simnibs_simulations/{subject}/simnibs_simulations/targets_DMN/subject_overlays/rh.{subject}_TMS_1-000{t}_MagVenture_MC_B70_scalar.central.E.norm'.format(subject=subject,t=t+1))\n",
    "sim_data = sim_data/np.max(sim_data)"
   ]
  },
  {
   "cell_type": "code",
   "execution_count": 55,
   "metadata": {},
   "outputs": [],
   "source": [
    "brain.add_overlay(sim_data,hemi='rh',min=0.75,max=.95)\n",
    "brain.add_foci(s.targets.coordinates['ras_tkr_coord'][t,:],hemi=s.targets.hemi[t])\n",
    "mlab.show()"
   ]
  },
  {
   "cell_type": "code",
   "execution_count": null,
   "metadata": {},
   "outputs": [],
   "source": []
  }
 ],
 "metadata": {
  "hide_input": false,
  "kernelspec": {
   "display_name": "Python 2",
   "language": "python",
   "name": "python2"
  },
  "language_info": {
   "codemirror_mode": {
    "name": "ipython",
    "version": 2
   },
   "file_extension": ".py",
   "mimetype": "text/x-python",
   "name": "python",
   "nbconvert_exporter": "python",
   "pygments_lexer": "ipython2",
   "version": "2.7.15"
  },
  "latex_envs": {
   "LaTeX_envs_menu_present": true,
   "autoclose": false,
   "autocomplete": true,
   "bibliofile": "biblio.bib",
   "cite_by": "apalike",
   "current_citInitial": 1,
   "eqLabelWithNumbers": true,
   "eqNumInitial": 1,
   "hotkeys": {
    "equation": "Ctrl-E",
    "itemize": "Ctrl-I"
   },
   "labels_anchors": false,
   "latex_user_defs": false,
   "report_style_numbering": false,
   "user_envs_cfg": false
  },
  "toc": {
   "base_numbering": 1,
   "nav_menu": {},
   "number_sections": true,
   "sideBar": true,
   "skip_h1_title": false,
   "title_cell": "Table of Contents",
   "title_sidebar": "Contents",
   "toc_cell": false,
   "toc_position": {
    "height": "calc(100% - 180px)",
    "left": "10px",
    "top": "150px",
    "width": "327.797px"
   },
   "toc_section_display": true,
   "toc_window_display": true
  }
 },
 "nbformat": 4,
 "nbformat_minor": 2
}
