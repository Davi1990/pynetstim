{
 "cells": [
  {
   "cell_type": "markdown",
   "metadata": {},
   "source": [
    "# developing and testing pynetstim"
   ]
  },
  {
   "cell_type": "code",
   "execution_count": 1,
   "metadata": {},
   "outputs": [],
   "source": [
    "import nibabel as nib\n",
    "import numpy as np\n",
    "\n",
    "from surfer import Brain\n",
    "from mayavi import mlab\n",
    "%gui qt\n",
    "from utils import Coords,Surf, FreesurferSurf, FreesurferCoords\n",
    "from points import Targets\n",
    "from project import StimProject\n",
    "import matplotlib.pyplot as plt\n",
    "%matplotlib inline\n",
    "#import seaborn as sns\n",
    "#sns.set_context('notebook')\n",
    "#sns.set_style('ticks')\n",
    "from pymisc.plotting import clean_plot\n",
    "from collections import defaultdict\n",
    "from plotting import plot_points"
   ]
  },
  {
   "cell_type": "markdown",
   "metadata": {},
   "source": [
    "**The aim is to add these features:**\n",
    "\n",
    "- visualization of brain surfaces \n",
    "- adding stimulation sites to the brain surface for visualization \n",
    "- creating stimulation ROIs based on the stimulation site (ROI class maybe?)"
   ]
  },
  {
   "cell_type": "code",
   "execution_count": 2,
   "metadata": {},
   "outputs": [],
   "source": [
    "subject = 'example_freesurfer_subject'\n",
    "freesurfer_dir = '/Users/stadayon/Dropbox/projects/broad/projects/pynetstim/pynetstim/examples/example_data/'\n",
    "project_dir = '/Users/stadayon/Dropbox/projects/broad/projects/pynetstim/pynetstim/temp'\n",
    "brainsight_file = './examples/example_data/brainsightsession_example_data.txt'\n",
    "project = StimProject(subject,freesurfer_dir,project_dir,brainsight_file)\n",
    "project.summary()"
   ]
  },
  {
   "cell_type": "code",
   "execution_count": 3,
   "metadata": {},
   "outputs": [],
   "source": [
    "targets = project.brainsight_targets.get_coords()\n",
    "targets_obj = Targets(targets, subject,freesurfer_dir)\n",
    "targets_obj.create_surf_rois(10,annot='Yeo2011_7Networks_N1000')\n",
    "samples_df = project.brainsight_samples.get_samples('Session 1')\n",
    "samples = samples_df[samples_df.dist_to_target<60][['loc_x','loc_y','loc_z']]\n",
    "samples_obj = FreesurferCoords(samples,subject, freesurfer_dir)\n",
    "#targets_obj.plot_points(hemi = 'both',show_rois=False,surf='white', annot='aparc',map_to_annot='aparc', scale_factor=.3, show_names=False,opacity=1,skin=False,map_surface='white')\n",
    "#project.plot_points(samples_obj,surf='white',hemi='both',annot='aparc',scale_factor=4,\n",
    "                    #img_basename='stims',background='white',opacity=.3)"
   ]
  },
  {
   "cell_type": "code",
   "execution_count": 4,
   "metadata": {},
   "outputs": [],
   "source": [
    "plot_points(targets_obj,'both','pial','pial',map_to_annot='Yeo2011_7Networks_N1000',show_rois=True,show_names=True,scale_factor=.5)"
   ]
  },
  {
   "cell_type": "code",
   "execution_count": 4,
   "metadata": {},
   "outputs": [],
   "source": [
    "plot_points?"
   ]
  },
  {
   "cell_type": "code",
   "execution_count": null,
   "metadata": {},
   "outputs": [],
   "source": []
  }
 ],
 "metadata": {
  "hide_input": false,
  "kernelspec": {
   "display_name": "Python 2",
   "language": "python",
   "name": "python2"
  },
  "language_info": {
   "codemirror_mode": {
    "name": "ipython",
    "version": 2
   },
   "file_extension": ".py",
   "mimetype": "text/x-python",
   "name": "python",
   "nbconvert_exporter": "python",
   "pygments_lexer": "ipython2",
   "version": "2.7.15"
  },
  "latex_envs": {
   "LaTeX_envs_menu_present": true,
   "autoclose": false,
   "autocomplete": true,
   "bibliofile": "biblio.bib",
   "cite_by": "apalike",
   "current_citInitial": 1,
   "eqLabelWithNumbers": true,
   "eqNumInitial": 1,
   "hotkeys": {
    "equation": "Ctrl-E",
    "itemize": "Ctrl-I"
   },
   "labels_anchors": false,
   "latex_user_defs": false,
   "report_style_numbering": false,
   "user_envs_cfg": false
  },
  "toc": {
   "base_numbering": 1,
   "nav_menu": {},
   "number_sections": true,
   "sideBar": true,
   "skip_h1_title": false,
   "title_cell": "Table of Contents",
   "title_sidebar": "Contents",
   "toc_cell": false,
   "toc_position": {
    "height": "calc(100% - 180px)",
    "left": "10px",
    "top": "150px",
    "width": "327.797px"
   },
   "toc_section_display": true,
   "toc_window_display": true
  }
 },
 "nbformat": 4,
 "nbformat_minor": 2
}
