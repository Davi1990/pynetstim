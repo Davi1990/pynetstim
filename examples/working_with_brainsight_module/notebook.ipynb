{
 "cells": [
  {
   "cell_type": "markdown",
   "metadata": {},
   "source": [
    "# Working with brainsight module"
   ]
  },
  {
   "cell_type": "code",
   "execution_count": 2,
   "metadata": {},
   "outputs": [
    {
     "name": "stderr",
     "output_type": "stream",
     "text": [
      "/anaconda3/envs/neuroimage-py3/lib/python3.7/importlib/_bootstrap.py:219: RuntimeWarning: numpy.ufunc size changed, may indicate binary incompatibility. Expected 192 from C header, got 216 from PyObject\n",
      "  return f(*args, **kwds)\n"
     ]
    }
   ],
   "source": [
    "from pynetstim.brainsight import BrainsightProject, chunk_samples, plot_chunks\n",
    "from pynetstim.plotting import plotting_points\n",
    "from surfer import Brain\n",
    "from mayavi import mlab \n",
    "import numpy as np\n",
    "import matplotlib.pyplot as plt\n",
    "%matplotlib inline\n",
    "from pymisc.plotting import clean_plot"
   ]
  },
  {
   "cell_type": "markdown",
   "metadata": {},
   "source": [
    "## Brainsight project"
   ]
  },
  {
   "cell_type": "code",
   "execution_count": 3,
   "metadata": {
    "scrolled": false
   },
   "outputs": [
    {
     "name": "stderr",
     "output_type": "stream",
     "text": [
      "/anaconda3/envs/neuroimage-py3/lib/python3.7/site-packages/pynetstim/brainsight.py:336: ResourceWarning: unclosed file <_io.TextIOWrapper name='./example_data/out_dir/example_subject/logs/log.txt' mode='r' encoding='UTF-8'>\n",
      "  previous_logs = open('{subject_dir}/logs/log.txt'.format(subject_dir = self.subject_dir),'r').read().split('\\n')[0:-1]\n",
      "ResourceWarning: Enable tracemalloc to get the object allocation traceback\n",
      "/anaconda3/envs/neuroimage-py3/lib/python3.7/site-packages/pynetstim/brainsight.py:50: ResourceWarning: unclosed file <_io.TextIOWrapper name='./example_data/example_brainsight.txt' mode='r' encoding='UTF-8'>\n",
      "  self.f = open(self.bs_session_file,'r').read().split('\\n')\n",
      "ResourceWarning: Enable tracemalloc to get the object allocation traceback\n",
      "/anaconda3/envs/neuroimage-py3/lib/python3.7/site-packages/pynetstim/brainsight.py:146: FutureWarning: read_table is deprecated, use read_csv instead, passing sep='\\t'.\n",
      "  self._df = pd.read_table(self.samples_file)\n"
     ]
    },
    {
     "name": "stdout",
     "output_type": "stream",
     "text": [
      "Target\n",
      "Sample\n",
      "Electrode\n",
      "Planned\n",
      "Session\n",
      "head model exists, if you want to recreate the head models, remove the directory:\n",
      "./example_data/example_subject/bem\n"
     ]
    },
    {
     "name": "stderr",
     "output_type": "stream",
     "text": [
      "/anaconda3/envs/neuroimage-py3/lib/python3.7/site-packages/pynetstim/coordinates.py:247: ResourceWarning: unclosed file <_io.TextIOWrapper name='./example_data/example_subject/mri/transforms/talairach.xfm' mode='r' encoding='UTF-8'>\n",
      "  f = open(fname,'r').read().split('\\n')\n",
      "ResourceWarning: Enable tracemalloc to get the object allocation traceback\n"
     ]
    }
   ],
   "source": [
    "subject = 'example_subject'\n",
    "freesurfer_dir = './example_data'\n",
    "project_dir = './example_data/out_dir'\n",
    "brainsight_file = './example_data/example_brainsight.txt'.format(subject=subject)\n",
    "\n",
    "project = BrainsightProject(subject, freesurfer_dir = freesurfer_dir,\n",
    "                      project_dir= project_dir, \n",
    "                      brainsight_file = brainsight_file,\n",
    "                      overwrite='all')\n",
    "\n",
    "project.summary(plot_pulses=False)"
   ]
  },
  {
   "cell_type": "markdown",
   "metadata": {},
   "source": [
    "#### samples and targets"
   ]
  },
  {
   "cell_type": "code",
   "execution_count": 4,
   "metadata": {},
   "outputs": [],
   "source": [
    "targets = project.brainsight_targets\n",
    "samples = project.brainsight_samples"
   ]
  },
  {
   "cell_type": "code",
   "execution_count": 5,
   "metadata": {},
   "outputs": [
    {
     "name": "stdout",
     "output_type": "stream",
     "text": [
      "## Target Names ##\n",
      "\n",
      "['R_DLPFC' 'R_Occ' 'L_DLPFC' 'L_IPL' 'V1_M1_1' 'V1_M1_2' 'V1_M1_3' 'c_Occ'\n",
      " 'c_R_DLPFC' 'c_DAN' 'I_DAN' 'ICA_DAN' 'C_Def' 'I_Def' 'ICA_Def' 'V2_M1_1'\n",
      " 'V2_M1_2' 'V2_M1_3' 'V2_M1_4' 'Sample 46' 'Sample 50' 'Sample 52'\n",
      " 'Sample 78' 'V4_M1_1' 'V4_M1_2' 'V4_m1_3' 'v4_M1_4' 'Sample 2085'\n",
      " 'V4_M1_5' 'V5_M1_1' 'V6_M1_1' 'V6_M1_2' 'V6_M1_3' 'V6_M1_4']\n"
     ]
    }
   ],
   "source": [
    "print('## Target Names ##\\n')\n",
    "print(targets.name)"
   ]
  },
  {
   "cell_type": "code",
   "execution_count": 6,
   "metadata": {},
   "outputs": [
    {
     "data": {
      "text/html": [
       "<div>\n",
       "<style scoped>\n",
       "    .dataframe tbody tr th:only-of-type {\n",
       "        vertical-align: middle;\n",
       "    }\n",
       "\n",
       "    .dataframe tbody tr th {\n",
       "        vertical-align: top;\n",
       "    }\n",
       "\n",
       "    .dataframe thead th {\n",
       "        text-align: right;\n",
       "    }\n",
       "</style>\n",
       "<table border=\"1\" class=\"dataframe\">\n",
       "  <thead>\n",
       "    <tr style=\"text-align: right;\">\n",
       "      <th></th>\n",
       "      <th>sample_name</th>\n",
       "      <th>session_name</th>\n",
       "      <th>index</th>\n",
       "      <th>assoc_target</th>\n",
       "      <th>loc_x</th>\n",
       "      <th>loc_y</th>\n",
       "      <th>loc_z</th>\n",
       "      <th>m0n0</th>\n",
       "      <th>m0n1</th>\n",
       "      <th>m0n2</th>\n",
       "      <th>...</th>\n",
       "      <th>target_error</th>\n",
       "      <th>angular_error</th>\n",
       "      <th>twist_error</th>\n",
       "      <th>stim_power</th>\n",
       "      <th>date</th>\n",
       "      <th>time</th>\n",
       "      <th>creation_cause</th>\n",
       "      <th>crosshairs_driver</th>\n",
       "      <th>offset</th>\n",
       "      <th>comment</th>\n",
       "    </tr>\n",
       "  </thead>\n",
       "  <tbody>\n",
       "    <tr>\n",
       "      <th>0</th>\n",
       "      <td>Sample 1</td>\n",
       "      <td>Session 1</td>\n",
       "      <td>1</td>\n",
       "      <td>L_DLPFC</td>\n",
       "      <td>-51.621</td>\n",
       "      <td>16.756</td>\n",
       "      <td>90.272</td>\n",
       "      <td>0.619</td>\n",
       "      <td>-0.435</td>\n",
       "      <td>0.654</td>\n",
       "      <td>...</td>\n",
       "      <td>45.470</td>\n",
       "      <td>24.556</td>\n",
       "      <td>27.447</td>\n",
       "      <td>(null)</td>\n",
       "      <td>2018-03-22</td>\n",
       "      <td>14:17:43.793</td>\n",
       "      <td>TTL2</td>\n",
       "      <td>Broad - CT210</td>\n",
       "      <td>0.0</td>\n",
       "      <td>(null)</td>\n",
       "    </tr>\n",
       "    <tr>\n",
       "      <th>1</th>\n",
       "      <td>Sample 2</td>\n",
       "      <td>Session 1</td>\n",
       "      <td>2</td>\n",
       "      <td>L_DLPFC</td>\n",
       "      <td>-50.824</td>\n",
       "      <td>14.926</td>\n",
       "      <td>90.438</td>\n",
       "      <td>0.571</td>\n",
       "      <td>-0.459</td>\n",
       "      <td>0.680</td>\n",
       "      <td>...</td>\n",
       "      <td>49.236</td>\n",
       "      <td>22.121</td>\n",
       "      <td>24.204</td>\n",
       "      <td>(null)</td>\n",
       "      <td>2018-03-22</td>\n",
       "      <td>14:17:49.104</td>\n",
       "      <td>TTL2</td>\n",
       "      <td>Broad - CT210</td>\n",
       "      <td>0.0</td>\n",
       "      <td>(null)</td>\n",
       "    </tr>\n",
       "    <tr>\n",
       "      <th>2</th>\n",
       "      <td>Sample 3</td>\n",
       "      <td>Session 1</td>\n",
       "      <td>3</td>\n",
       "      <td>L_DLPFC</td>\n",
       "      <td>-48.014</td>\n",
       "      <td>13.790</td>\n",
       "      <td>92.569</td>\n",
       "      <td>0.573</td>\n",
       "      <td>-0.487</td>\n",
       "      <td>0.659</td>\n",
       "      <td>...</td>\n",
       "      <td>50.508</td>\n",
       "      <td>21.528</td>\n",
       "      <td>22.823</td>\n",
       "      <td>(null)</td>\n",
       "      <td>2018-03-22</td>\n",
       "      <td>14:18:06.976</td>\n",
       "      <td>TTL2</td>\n",
       "      <td>Broad - CT210</td>\n",
       "      <td>0.0</td>\n",
       "      <td>(null)</td>\n",
       "    </tr>\n",
       "    <tr>\n",
       "      <th>3</th>\n",
       "      <td>Sample 4</td>\n",
       "      <td>Session 1</td>\n",
       "      <td>4</td>\n",
       "      <td>L_DLPFC</td>\n",
       "      <td>-47.989</td>\n",
       "      <td>13.931</td>\n",
       "      <td>92.499</td>\n",
       "      <td>0.566</td>\n",
       "      <td>-0.497</td>\n",
       "      <td>0.658</td>\n",
       "      <td>...</td>\n",
       "      <td>51.273</td>\n",
       "      <td>19.560</td>\n",
       "      <td>21.841</td>\n",
       "      <td>(null)</td>\n",
       "      <td>2018-03-22</td>\n",
       "      <td>14:18:11.635</td>\n",
       "      <td>TTL2</td>\n",
       "      <td>Broad - CT210</td>\n",
       "      <td>0.0</td>\n",
       "      <td>(null)</td>\n",
       "    </tr>\n",
       "    <tr>\n",
       "      <th>4</th>\n",
       "      <td>Sample 5</td>\n",
       "      <td>Session 1</td>\n",
       "      <td>5</td>\n",
       "      <td>L_DLPFC</td>\n",
       "      <td>-40.031</td>\n",
       "      <td>12.046</td>\n",
       "      <td>99.932</td>\n",
       "      <td>0.539</td>\n",
       "      <td>-0.573</td>\n",
       "      <td>0.617</td>\n",
       "      <td>...</td>\n",
       "      <td>54.311</td>\n",
       "      <td>20.525</td>\n",
       "      <td>17.314</td>\n",
       "      <td>(null)</td>\n",
       "      <td>2018-03-22</td>\n",
       "      <td>14:18:31.412</td>\n",
       "      <td>TTL2</td>\n",
       "      <td>Broad - CT210</td>\n",
       "      <td>0.0</td>\n",
       "      <td>(null)</td>\n",
       "    </tr>\n",
       "  </tbody>\n",
       "</table>\n",
       "<p>5 rows × 27 columns</p>\n",
       "</div>"
      ],
      "text/plain": [
       "  sample_name session_name  index assoc_target   loc_x   loc_y   loc_z   m0n0  \\\n",
       "0    Sample 1    Session 1      1      L_DLPFC -51.621  16.756  90.272  0.619   \n",
       "1    Sample 2    Session 1      2      L_DLPFC -50.824  14.926  90.438  0.571   \n",
       "2    Sample 3    Session 1      3      L_DLPFC -48.014  13.790  92.569  0.573   \n",
       "3    Sample 4    Session 1      4      L_DLPFC -47.989  13.931  92.499  0.566   \n",
       "4    Sample 5    Session 1      5      L_DLPFC -40.031  12.046  99.932  0.539   \n",
       "\n",
       "    m0n1   m0n2  ...  target_error  angular_error  twist_error  stim_power  \\\n",
       "0 -0.435  0.654  ...        45.470         24.556       27.447      (null)   \n",
       "1 -0.459  0.680  ...        49.236         22.121       24.204      (null)   \n",
       "2 -0.487  0.659  ...        50.508         21.528       22.823      (null)   \n",
       "3 -0.497  0.658  ...        51.273         19.560       21.841      (null)   \n",
       "4 -0.573  0.617  ...        54.311         20.525       17.314      (null)   \n",
       "\n",
       "         date          time  creation_cause  crosshairs_driver  offset  \\\n",
       "0  2018-03-22  14:17:43.793            TTL2      Broad - CT210     0.0   \n",
       "1  2018-03-22  14:17:49.104            TTL2      Broad - CT210     0.0   \n",
       "2  2018-03-22  14:18:06.976            TTL2      Broad - CT210     0.0   \n",
       "3  2018-03-22  14:18:11.635            TTL2      Broad - CT210     0.0   \n",
       "4  2018-03-22  14:18:31.412            TTL2      Broad - CT210     0.0   \n",
       "\n",
       "   comment  \n",
       "0   (null)  \n",
       "1   (null)  \n",
       "2   (null)  \n",
       "3   (null)  \n",
       "4   (null)  \n",
       "\n",
       "[5 rows x 27 columns]"
      ]
     },
     "execution_count": 6,
     "metadata": {},
     "output_type": "execute_result"
    }
   ],
   "source": [
    "### getting samples for L_DLPFC\n",
    "ldlpfc_samples = samples.get_target_stims('L_DLPFC')\n",
    "ldlpfc_samples.head()"
   ]
  },
  {
   "cell_type": "code",
   "execution_count": 7,
   "metadata": {},
   "outputs": [
    {
     "data": {
      "image/png": "[encoded data removed]",
      "text/plain": [
       "<Figure size 432x288 with 1 Axes>"
      ]
     },
     "metadata": {
      "needs_background": "light"
     },
     "output_type": "display_data"
    }
   ],
   "source": [
    "### plotting samples target errors\n",
    "fig,ax = plt.subplots()\n",
    "ax.plot(ldlpfc_samples.target_error,'*-')\n",
    "ax.set_xlabel('Stimulation Pulse')\n",
    "ax.set_ylabel('LDLPFC Target Error')\n",
    "fig,ax = clean_plot(fig,ax)"
   ]
  },
  {
   "cell_type": "markdown",
   "metadata": {},
   "source": [
    "As the jumps in the plot shows, LDLPFC has been stimulated at different sessions. We can chunk the samples. "
   ]
  },
  {
   "cell_type": "code",
   "execution_count": 8,
   "metadata": {},
   "outputs": [
    {
     "name": "stdout",
     "output_type": "stream",
     "text": [
      "[0, 7, 13, 163, 463, 465, 615, 944, 1093, 1393, 1542]\n"
     ]
    },
    {
     "data": {
      "text/plain": [
       "(<Figure size 576x432 with 1 Axes>,\n",
       " <matplotlib.axes._subplots.AxesSubplot at 0x106172c18>)"
      ]
     },
     "execution_count": 8,
     "metadata": {},
     "output_type": "execute_result"
    },
    {
     "data": {
      "image/png": "[encoded data removed]",
      "text/plain": [
       "<Figure size 576x432 with 1 Axes>"
      ]
     },
     "metadata": {
      "needs_background": "light"
     },
     "output_type": "display_data"
    }
   ],
   "source": [
    "chunks = chunk_samples(ldlpfc_samples, thr=50)\n",
    "plot_chunks(chunks)"
   ]
  },
  {
   "cell_type": "markdown",
   "metadata": {},
   "source": [
    "## visualization of stimulations"
   ]
  },
  {
   "cell_type": "code",
   "execution_count": 9,
   "metadata": {},
   "outputs": [],
   "source": [
    "names_to_plot = ['R_DLPFC', 'R_Occ', 'L_DLPFC', 'L_IPL', 'V1_M1_1', 'V1_M1_2', 'c_Occ',\n",
    " 'c_R_DLPFC', 'c_DAN', 'I_DAN', 'ICA_DAN', 'C_Def', 'I_Def', 'ICA_Def']\n",
    "\n",
    "\n",
    "### subseting targets based on name \n",
    "targets_to_plot = targets.subset('name',names_to_plot)"
   ]
  },
  {
   "cell_type": "code",
   "execution_count": 10,
   "metadata": {},
   "outputs": [
    {
     "data": {
      "text/plain": [
       "['sample__dor.png', 'sample__med.png', 'sample__lat.png']"
      ]
     },
     "execution_count": 10,
     "metadata": {},
     "output_type": "execute_result"
    }
   ],
   "source": [
    "p = plotting_points(targets_to_plot,hemi='both',surf='white',map_surface='pial',\n",
    "                show_roi=True,show_name=True,scale_factor=1,name_scale=4,\n",
    "               opacity=1,annot='Yeo2011_7Networks_N1000',show_plot=False)\n",
    "p._brain.save_imageset('sample_',views=['dor','med','lat'])\n"
   ]
  },
  {
   "cell_type": "markdown",
   "metadata": {},
   "source": [
    "![title](sample__dor.png)"
   ]
  },
  {
   "cell_type": "code",
   "execution_count": null,
   "metadata": {},
   "outputs": [],
   "source": []
  }
 ],
 "metadata": {
  "hide_input": false,
  "kernelspec": {
   "display_name": "Python 2",
   "language": "python",
   "name": "python2"
  },
  "language_info": {
   "codemirror_mode": {
    "name": "ipython",
    "version": 3
   },
   "file_extension": ".py",
   "mimetype": "text/x-python",
   "name": "python",
   "nbconvert_exporter": "python",
   "pygments_lexer": "ipython3",
   "version": "3.7.2"
  },
  "latex_envs": {
   "LaTeX_envs_menu_present": true,
   "autoclose": false,
   "autocomplete": true,
   "bibliofile": "biblio.bib",
   "cite_by": "apalike",
   "current_citInitial": 1,
   "eqLabelWithNumbers": true,
   "eqNumInitial": 1,
   "hotkeys": {
    "equation": "Ctrl-E",
    "itemize": "Ctrl-I"
   },
   "labels_anchors": false,
   "latex_user_defs": false,
   "report_style_numbering": false,
   "user_envs_cfg": false
  },
  "toc": {
   "base_numbering": 1,
   "nav_menu": {},
   "number_sections": true,
   "sideBar": true,
   "skip_h1_title": false,
   "title_cell": "Table of Contents",
   "title_sidebar": "Contents",
   "toc_cell": false,
   "toc_position": {},
   "toc_section_display": true,
   "toc_window_display": true
  }
 },
 "nbformat": 4,
 "nbformat_minor": 2
}
