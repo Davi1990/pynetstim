{
 "cells": [
  {
   "cell_type": "markdown",
   "metadata": {},
   "source": [
    "# Working with brainsight module"
   ]
  },
  {
   "cell_type": "code",
   "execution_count": 1,
   "metadata": {},
   "outputs": [
    {
     "name": "stdout",
     "output_type": "stream",
     "text": [
      "200116-18:43:38,355 nipype.utils INFO:\n",
      "\t Running nipype version 1.3.1 (latest: 1.4.0)\n"
     ]
    }
   ],
   "source": [
    "from pynetstim.brainsight import BrainsightProject, chunk_samples, plot_chunks\n",
    "from pynetstim.plotting import plotting_points\n",
    "from pynetstim.utils import clean_plot\n",
    "from surfer import Brain\n",
    "from mayavi import mlab \n",
    "import numpy as np\n",
    "import matplotlib.pyplot as plt\n",
    "%matplotlib inline\n",
    "import os"
   ]
  },
  {
   "cell_type": "markdown",
   "metadata": {},
   "source": [
    "## Brainsight project"
   ]
  },
  {
   "cell_type": "code",
   "execution_count": 2,
   "metadata": {
    "scrolled": false
   },
   "outputs": [
    {
     "name": "stdout",
     "output_type": "stream",
     "text": [
      "Target\n",
      "Sample\n",
      "Electrode\n",
      "Planned\n",
      "Session\n",
      "head model exists!\n"
     ]
    }
   ],
   "source": [
    "subject = 'sub-82YZ'\n",
    "base_dir = '/Users/ehsantadayon/Dropbox/Projects/Broad/projects/pynetstim/examples/working_with_brainsight_module'\n",
    "freesurfer_dir = os.path.join(base_dir,'example_data/{subject}/freesurfer'.format(subject=subject))\n",
    "project_dir = os.path.join(base_dir,'example_data/{subject}/pynetstim_output'.format(subject=subject))\n",
    "brainsight_file = os.path.join(base_dir, 'example_data/{subject}/brainsight_raw/brainsight.txt'.format(subject=subject))\n",
    "\n",
    "project = BrainsightProject(subject, freesurfer_dir = freesurfer_dir,\n",
    "                      project_dir= project_dir, \n",
    "                      brainsight_file = brainsight_file,\n",
    "                      overwrite='all')\n",
    "\n",
    "project.summary(plot_pulses=False)"
   ]
  },
  {
   "cell_type": "markdown",
   "metadata": {},
   "source": [
    "#### samples and targets"
   ]
  },
  {
   "cell_type": "code",
   "execution_count": 3,
   "metadata": {},
   "outputs": [],
   "source": [
    "targets = project.brainsight_targets\n",
    "samples = project.brainsight_samples"
   ]
  },
  {
   "cell_type": "code",
   "execution_count": 4,
   "metadata": {},
   "outputs": [
    {
     "name": "stdout",
     "output_type": "stream",
     "text": [
      "## Target Names ##\n",
      "\n",
      "['L_LDLPFC' 'L_IPL' 'M1' 'V1_M1_1' 'V1_M1_2' 'V1_M1_3' 'V1_M1_4' 'V1_M1_5'\n",
      " 'L_IPL_1' 'V1_M1_6' 'R_DLPFC' 'R_OCC' 'V2_M1_1' 'V2_M1_2' 'F_OCC'\n",
      " 'F_RDLPFC' 'I_DAN' 'I_DMN' 'C_DAN' 'C_DMN' 'ICA-DAN' 'ICA-DMN' 'V3_M1_1'\n",
      " 'v3_M1_2' 'V4_m1_1' 'v4_m1_2' 'v4_m1_3' 'v4_m1_4' 'v4_m1_5' 'V5_M1_1'\n",
      " 'V5_M1_2' 'V5_M1_3' 'V5_M1_4' 'V5_M1_5' 'V6_m1_1' 'V6_m1_2']\n"
     ]
    }
   ],
   "source": [
    "print('## Target Names ##\\n')\n",
    "print(targets.name)"
   ]
  },
  {
   "cell_type": "code",
   "execution_count": 5,
   "metadata": {},
   "outputs": [
    {
     "data": {
      "text/html": [
       "<div>\n",
       "<style scoped>\n",
       "    .dataframe tbody tr th:only-of-type {\n",
       "        vertical-align: middle;\n",
       "    }\n",
       "\n",
       "    .dataframe tbody tr th {\n",
       "        vertical-align: top;\n",
       "    }\n",
       "\n",
       "    .dataframe thead th {\n",
       "        text-align: right;\n",
       "    }\n",
       "</style>\n",
       "<table border=\"1\" class=\"dataframe\">\n",
       "  <thead>\n",
       "    <tr style=\"text-align: right;\">\n",
       "      <th></th>\n",
       "      <th>sample_name</th>\n",
       "      <th>session_name</th>\n",
       "      <th>index</th>\n",
       "      <th>assoc_target</th>\n",
       "      <th>loc_x</th>\n",
       "      <th>loc_y</th>\n",
       "      <th>loc_z</th>\n",
       "      <th>m0n0</th>\n",
       "      <th>m0n1</th>\n",
       "      <th>m0n2</th>\n",
       "      <th>...</th>\n",
       "      <th>angular_error</th>\n",
       "      <th>twist_error</th>\n",
       "      <th>stim_power</th>\n",
       "      <th>date</th>\n",
       "      <th>time</th>\n",
       "      <th>creation_cause</th>\n",
       "      <th>crosshairs_driver</th>\n",
       "      <th>offset</th>\n",
       "      <th>comment</th>\n",
       "      <th>emg_channels</th>\n",
       "    </tr>\n",
       "  </thead>\n",
       "  <tbody>\n",
       "    <tr>\n",
       "      <th>4250</th>\n",
       "      <td>Sample 464</td>\n",
       "      <td>Session 3</td>\n",
       "      <td>464</td>\n",
       "      <td>C_DMN</td>\n",
       "      <td>63.998</td>\n",
       "      <td>-54.106</td>\n",
       "      <td>63.142</td>\n",
       "      <td>0.311</td>\n",
       "      <td>-0.160</td>\n",
       "      <td>-0.937</td>\n",
       "      <td>...</td>\n",
       "      <td>2.768</td>\n",
       "      <td>11.051</td>\n",
       "      <td>(null)</td>\n",
       "      <td>2018-08-10</td>\n",
       "      <td>10:08:06.596</td>\n",
       "      <td>TTL2</td>\n",
       "      <td>Snazzy Coil</td>\n",
       "      <td>0.0</td>\n",
       "      <td>(null)</td>\n",
       "      <td>(null)</td>\n",
       "    </tr>\n",
       "    <tr>\n",
       "      <th>4251</th>\n",
       "      <td>Sample 465</td>\n",
       "      <td>Session 3</td>\n",
       "      <td>465</td>\n",
       "      <td>C_DMN</td>\n",
       "      <td>67.717</td>\n",
       "      <td>-52.013</td>\n",
       "      <td>59.855</td>\n",
       "      <td>0.279</td>\n",
       "      <td>-0.143</td>\n",
       "      <td>-0.950</td>\n",
       "      <td>...</td>\n",
       "      <td>2.401</td>\n",
       "      <td>10.491</td>\n",
       "      <td>(null)</td>\n",
       "      <td>2018-08-10</td>\n",
       "      <td>10:08:11.616</td>\n",
       "      <td>TTL2</td>\n",
       "      <td>Snazzy Coil</td>\n",
       "      <td>0.0</td>\n",
       "      <td>(null)</td>\n",
       "      <td>(null)</td>\n",
       "    </tr>\n",
       "    <tr>\n",
       "      <th>4252</th>\n",
       "      <td>Sample 466</td>\n",
       "      <td>Session 3</td>\n",
       "      <td>466</td>\n",
       "      <td>C_DMN</td>\n",
       "      <td>66.340</td>\n",
       "      <td>-53.730</td>\n",
       "      <td>59.140</td>\n",
       "      <td>0.284</td>\n",
       "      <td>-0.133</td>\n",
       "      <td>-0.949</td>\n",
       "      <td>...</td>\n",
       "      <td>3.640</td>\n",
       "      <td>11.104</td>\n",
       "      <td>(null)</td>\n",
       "      <td>2018-08-10</td>\n",
       "      <td>10:08:15.649</td>\n",
       "      <td>TTL2</td>\n",
       "      <td>Snazzy Coil</td>\n",
       "      <td>0.0</td>\n",
       "      <td>(null)</td>\n",
       "      <td>(null)</td>\n",
       "    </tr>\n",
       "    <tr>\n",
       "      <th>4253</th>\n",
       "      <td>Sample 467</td>\n",
       "      <td>Session 3</td>\n",
       "      <td>467</td>\n",
       "      <td>C_DMN</td>\n",
       "      <td>68.362</td>\n",
       "      <td>-51.734</td>\n",
       "      <td>58.109</td>\n",
       "      <td>0.295</td>\n",
       "      <td>-0.157</td>\n",
       "      <td>-0.943</td>\n",
       "      <td>...</td>\n",
       "      <td>3.253</td>\n",
       "      <td>10.523</td>\n",
       "      <td>(null)</td>\n",
       "      <td>2018-08-10</td>\n",
       "      <td>10:08:18.666</td>\n",
       "      <td>TTL2</td>\n",
       "      <td>Snazzy Coil</td>\n",
       "      <td>0.0</td>\n",
       "      <td>(null)</td>\n",
       "      <td>(null)</td>\n",
       "    </tr>\n",
       "    <tr>\n",
       "      <th>4254</th>\n",
       "      <td>Sample 468</td>\n",
       "      <td>Session 3</td>\n",
       "      <td>468</td>\n",
       "      <td>C_DMN</td>\n",
       "      <td>66.543</td>\n",
       "      <td>-53.215</td>\n",
       "      <td>59.324</td>\n",
       "      <td>0.290</td>\n",
       "      <td>-0.149</td>\n",
       "      <td>-0.945</td>\n",
       "      <td>...</td>\n",
       "      <td>3.186</td>\n",
       "      <td>10.692</td>\n",
       "      <td>(null)</td>\n",
       "      <td>2018-08-10</td>\n",
       "      <td>10:08:21.698</td>\n",
       "      <td>TTL2</td>\n",
       "      <td>Snazzy Coil</td>\n",
       "      <td>0.0</td>\n",
       "      <td>(null)</td>\n",
       "      <td>(null)</td>\n",
       "    </tr>\n",
       "  </tbody>\n",
       "</table>\n",
       "<p>5 rows × 28 columns</p>\n",
       "</div>"
      ],
      "text/plain": [
       "     sample_name session_name  index assoc_target   loc_x   loc_y   loc_z  \\\n",
       "4250  Sample 464    Session 3    464        C_DMN  63.998 -54.106  63.142   \n",
       "4251  Sample 465    Session 3    465        C_DMN  67.717 -52.013  59.855   \n",
       "4252  Sample 466    Session 3    466        C_DMN  66.340 -53.730  59.140   \n",
       "4253  Sample 467    Session 3    467        C_DMN  68.362 -51.734  58.109   \n",
       "4254  Sample 468    Session 3    468        C_DMN  66.543 -53.215  59.324   \n",
       "\n",
       "       m0n0   m0n1   m0n2  ...  angular_error  twist_error  stim_power  \\\n",
       "4250  0.311 -0.160 -0.937  ...          2.768       11.051      (null)   \n",
       "4251  0.279 -0.143 -0.950  ...          2.401       10.491      (null)   \n",
       "4252  0.284 -0.133 -0.949  ...          3.640       11.104      (null)   \n",
       "4253  0.295 -0.157 -0.943  ...          3.253       10.523      (null)   \n",
       "4254  0.290 -0.149 -0.945  ...          3.186       10.692      (null)   \n",
       "\n",
       "            date          time  creation_cause  crosshairs_driver  offset  \\\n",
       "4250  2018-08-10  10:08:06.596            TTL2        Snazzy Coil     0.0   \n",
       "4251  2018-08-10  10:08:11.616            TTL2        Snazzy Coil     0.0   \n",
       "4252  2018-08-10  10:08:15.649            TTL2        Snazzy Coil     0.0   \n",
       "4253  2018-08-10  10:08:18.666            TTL2        Snazzy Coil     0.0   \n",
       "4254  2018-08-10  10:08:21.698            TTL2        Snazzy Coil     0.0   \n",
       "\n",
       "      comment  emg_channels  \n",
       "4250   (null)        (null)  \n",
       "4251   (null)        (null)  \n",
       "4252   (null)        (null)  \n",
       "4253   (null)        (null)  \n",
       "4254   (null)        (null)  \n",
       "\n",
       "[5 rows x 28 columns]"
      ]
     },
     "execution_count": 5,
     "metadata": {},
     "output_type": "execute_result"
    }
   ],
   "source": [
    "### getting samples for L_DLPFC\n",
    "ldlpfc_samples = samples.get_target_stims('C_DMN')\n",
    "ldlpfc_samples.head()"
   ]
  },
  {
   "cell_type": "code",
   "execution_count": 6,
   "metadata": {},
   "outputs": [
    {
     "data": {
      "image/png": "[encoded data removed]",
      "text/plain": [
       "<Figure size 432x288 with 1 Axes>"
      ]
     },
     "metadata": {
      "needs_background": "light"
     },
     "output_type": "display_data"
    }
   ],
   "source": [
    "### plotting samples target errors\n",
    "fig,ax = plt.subplots()\n",
    "ax.plot(ldlpfc_samples.target_error,'*-')\n",
    "ax.set_xlabel('Stimulation Pulse')\n",
    "ax.set_ylabel('LIPL Target Error')\n",
    "fig,ax  = clean_plot(fig,ax)"
   ]
  },
  {
   "cell_type": "markdown",
   "metadata": {},
   "source": [
    "As the jumps in the plot shows, LDLPFC has been stimulated at different sessions. We can chunk the samples. "
   ]
  },
  {
   "cell_type": "code",
   "execution_count": 7,
   "metadata": {},
   "outputs": [
    {
     "name": "stdout",
     "output_type": "stream",
     "text": [
      "[0, 150, 221, 294]\n"
     ]
    },
    {
     "data": {
      "text/plain": [
       "(<Figure size 576x432 with 1 Axes>,\n",
       " <matplotlib.axes._subplots.AxesSubplot at 0x1110b6dd8>)"
      ]
     },
     "execution_count": 7,
     "metadata": {},
     "output_type": "execute_result"
    },
    {
     "data": {
      "image/png": "[encoded data removed]",
      "text/plain": [
       "<Figure size 576x432 with 1 Axes>"
      ]
     },
     "metadata": {
      "needs_background": "light"
     },
     "output_type": "display_data"
    }
   ],
   "source": [
    "chunks = chunk_samples(ldlpfc_samples, thr=50)\n",
    "plot_chunks(chunks)"
   ]
  },
  {
   "cell_type": "markdown",
   "metadata": {},
   "source": [
    "## visualization of stimulations"
   ]
  },
  {
   "cell_type": "code",
   "execution_count": 8,
   "metadata": {},
   "outputs": [
    {
     "data": {
      "text/plain": [
       "array(['L_LDLPFC', 'L_IPL', 'M1', 'V1_M1_1', 'V1_M1_2', 'V1_M1_3',\n",
       "       'V1_M1_4', 'V1_M1_5', 'L_IPL_1', 'V1_M1_6', 'R_DLPFC', 'R_OCC',\n",
       "       'V2_M1_1', 'V2_M1_2', 'F_OCC', 'F_RDLPFC', 'I_DAN', 'I_DMN',\n",
       "       'C_DAN', 'C_DMN', 'ICA-DAN', 'ICA-DMN', 'V3_M1_1', 'v3_M1_2',\n",
       "       'V4_m1_1', 'v4_m1_2', 'v4_m1_3', 'v4_m1_4', 'v4_m1_5', 'V5_M1_1',\n",
       "       'V5_M1_2', 'V5_M1_3', 'V5_M1_4', 'V5_M1_5', 'V6_m1_1', 'V6_m1_2'],\n",
       "      dtype=object)"
      ]
     },
     "execution_count": 8,
     "metadata": {},
     "output_type": "execute_result"
    }
   ],
   "source": [
    "targets.name"
   ]
  },
  {
   "cell_type": "code",
   "execution_count": 9,
   "metadata": {},
   "outputs": [],
   "source": [
    "names_to_plot = ['L_IPL','M1','C_DAN','C_DMN','ICA-DMN','ICA-DAN']\n",
    "\n",
    "\n",
    "### subseting targets based on name \n",
    "targets_to_plot = targets.subset('name',names_to_plot)"
   ]
  },
  {
   "cell_type": "code",
   "execution_count": 15,
   "metadata": {},
   "outputs": [
    {
     "data": {
      "text/plain": [
       "['sample__dor.png', 'sample__med.png', 'sample__lat.png']"
      ]
     },
     "execution_count": 15,
     "metadata": {},
     "output_type": "execute_result"
    }
   ],
   "source": [
    "p = plotting_points(targets_to_plot,hemi='both',surf='white',map_surface='pial',\n",
    "                show_roi=True,show_name=True,scale_factor=0.5,name_scale=4,\n",
    "               opacity=1,annot='Yeo2011_7Networks_N1000')\n",
    "p.brain.save_imageset('sample_',views=['dor','med','lat'])"
   ]
  },
  {
   "cell_type": "markdown",
   "metadata": {},
   "source": [
    "![title](sample__dor.png)"
   ]
  },
  {
   "cell_type": "code",
   "execution_count": 16,
   "metadata": {},
   "outputs": [],
   "source": [
    "p.show()"
   ]
  }
 ],
 "metadata": {
  "hide_input": false,
  "kernelspec": {
   "display_name": "Python 3",
   "language": "python",
   "name": "python3"
  },
  "language_info": {
   "codemirror_mode": {
    "name": "ipython",
    "version": 3
   },
   "file_extension": ".py",
   "mimetype": "text/x-python",
   "name": "python",
   "nbconvert_exporter": "python",
   "pygments_lexer": "ipython3",
   "version": "3.6.9"
  },
  "latex_envs": {
   "LaTeX_envs_menu_present": true,
   "autoclose": false,
   "autocomplete": true,
   "bibliofile": "biblio.bib",
   "cite_by": "apalike",
   "current_citInitial": 1,
   "eqLabelWithNumbers": true,
   "eqNumInitial": 1,
   "hotkeys": {
    "equation": "Ctrl-E",
    "itemize": "Ctrl-I"
   },
   "labels_anchors": false,
   "latex_user_defs": false,
   "report_style_numbering": false,
   "user_envs_cfg": false
  },
  "toc": {
   "base_numbering": 1,
   "nav_menu": {},
   "number_sections": true,
   "sideBar": true,
   "skip_h1_title": false,
   "title_cell": "Table of Contents",
   "title_sidebar": "Contents",
   "toc_cell": false,
   "toc_position": {},
   "toc_section_display": true,
   "toc_window_display": true
  }
 },
 "nbformat": 4,
 "nbformat_minor": 2
}
